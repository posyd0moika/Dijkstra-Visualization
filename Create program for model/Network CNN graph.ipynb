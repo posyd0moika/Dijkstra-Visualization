{
 "cells": [
  {
   "cell_type": "code",
   "execution_count": 1,
   "metadata": {
    "collapsed": true
   },
   "outputs": [],
   "source": [
    "from tensorflow.keras.layers import *\n",
    "import numpy as np\n",
    "import matplotlib.pyplot as plt\n",
    "import h5py\n",
    "from tensorflow.keras import Sequential\n",
    "from data import Data"
   ]
  },
  {
   "cell_type": "code",
   "execution_count": 2,
   "outputs": [
    {
     "data": {
      "text/plain": "4"
     },
     "execution_count": 2,
     "metadata": {},
     "output_type": "execute_result"
    }
   ],
   "source": [
    "data = Data(\"data\")\n",
    "data.config_iter(64, 3)\n",
    "len(data)"
   ],
   "metadata": {
    "collapsed": false
   }
  },
  {
   "cell_type": "code",
   "execution_count": 17,
   "outputs": [
    {
     "data": {
      "text/plain": "<KerasTensor: shape=(None, 16, 16, 256) dtype=float32 (created by layer 'concatenate_12')>"
     },
     "execution_count": 17,
     "metadata": {},
     "output_type": "execute_result"
    }
   ],
   "source": [
    "graphCNN = Sequential([\n",
    "    Input((256, 256, 1)),\n",
    "    Conv2D(8, (3, 3), activation=\"relu\", padding=\"same\"),\n",
    "    Conv2D(16, (3, 3), activation=\"relu\", padding=\"same\"),\n",
    "    Conv2D(16, (3, 3), activation=\"relu\", strides=(2, 2), padding=\"same\"),  # 128 128 32\n",
    "    Conv2D(32, (3, 3), activation=\"relu\", padding=\"same\"),\n",
    "    Conv2D(32, (3, 3), activation=\"relu\", strides=(2, 2), padding=\"same\"),  # 64 64 64\n",
    "    Conv2D(64, (3, 3), activation=\"relu\", padding=\"same\"),\n",
    "    Conv2D(64, (3, 3), activation=\"relu\", strides=(2, 2), padding=\"same\"),  # 32 32 128\n",
    "    Conv2D(128, (3, 3), activation=\"relu\", padding=\"same\"),\n",
    "    Conv2D(256, (3, 3), activation=\"relu\", strides=(2, 2), padding=\"same\"),  # 16 16 256\n",
    "    Conv2D(128, (3, 3), activation=\"relu\", padding=\"same\"),  # 16 16 128\n",
    "])\n",
    "\n",
    "embedding_way = Sequential([\n",
    "    Input((16, 16, 1)),\n",
    "    Flatten(),\n",
    "    Dense(256, \"relu\"),\n",
    "    RepeatVector(graphCNN.output_shape[3]),\n",
    "    Reshape(graphCNN.output_shape[1:]),\n",
    "])\n",
    "\n",
    "inp1 = Input((256, 256, 1))\n",
    "inp2 = Input((16, 16, 1))\n",
    "\n",
    "res_grpah = graphCNN(inp1) # 128,\n",
    "res_way = embedding_way(inp2)\n",
    "\n",
    "\n",
    "cont = concatenate([\n",
    "    res_grpah,\n",
    "    res_way\n",
    "])  # 16 16 256\n",
    "\n",
    "\n",
    "\n",
    "\n"
   ],
   "metadata": {
    "collapsed": false
   }
  },
  {
   "cell_type": "code",
   "execution_count": null,
   "outputs": [],
   "source": [],
   "metadata": {
    "collapsed": false
   }
  }
 ],
 "metadata": {
  "kernelspec": {
   "display_name": "Python 3",
   "language": "python",
   "name": "python3"
  },
  "language_info": {
   "codemirror_mode": {
    "name": "ipython",
    "version": 2
   },
   "file_extension": ".py",
   "mimetype": "text/x-python",
   "name": "python",
   "nbconvert_exporter": "python",
   "pygments_lexer": "ipython2",
   "version": "2.7.6"
  }
 },
 "nbformat": 4,
 "nbformat_minor": 0
}
