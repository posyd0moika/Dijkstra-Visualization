{
 "cells": [
  {
   "cell_type": "code",
   "execution_count": 1,
   "metadata": {
    "collapsed": true
   },
   "outputs": [],
   "source": [
    "from tensorflow.keras.layers import *\n",
    "import numpy as np\n",
    "import matplotlib.pyplot as plt\n",
    "import h5py\n",
    "from tensorflow.keras import Sequential\n",
    "from data import Data"
   ]
  },
  {
   "cell_type": "code",
   "execution_count": 2,
   "outputs": [
    {
     "data": {
      "text/plain": "4"
     },
     "execution_count": 2,
     "metadata": {},
     "output_type": "execute_result"
    }
   ],
   "source": [
    "data = Data(\"data\")\n",
    "data.config_iter(64, 3)\n",
    "len(data)"
   ],
   "metadata": {
    "collapsed": false
   }
  },
  {
   "cell_type": "code",
   "execution_count": 8,
   "outputs": [
    {
     "name": "stdout",
     "output_type": "stream",
     "text": [
      "KerasTensor(type_spec=TensorSpec(shape=(None, 4, 4, 128), dtype=tf.float32, name=None), name='sequential_10/conv2d_59/Relu:0', description=\"created by layer 'sequential_10'\") KerasTensor(type_spec=TensorSpec(shape=(None, 16, 16, 128), dtype=tf.float32, name=None), name='sequential_11/reshape_5/Reshape:0', description=\"created by layer 'sequential_11'\")\n"
     ]
    },
    {
     "ename": "ValueError",
     "evalue": "A `Concatenate` layer requires inputs with matching shapes except for the concatenation axis. Received: input_shape=[(None, 4, 4, 128), (None, 16, 16, 128)]",
     "output_type": "error",
     "traceback": [
      "\u001B[0;31m---------------------------------------------------------------------------\u001B[0m",
      "\u001B[0;31mValueError\u001B[0m                                Traceback (most recent call last)",
      "Cell \u001B[0;32mIn[8], line 32\u001B[0m\n\u001B[1;32m     28\u001B[0m res_way \u001B[38;5;241m=\u001B[39m embedding_way(inp2)\n\u001B[1;32m     30\u001B[0m \u001B[38;5;28mprint\u001B[39m(res_grpah,res_way)\n\u001B[0;32m---> 32\u001B[0m cont \u001B[38;5;241m=\u001B[39m \u001B[43mconcatenate\u001B[49m\u001B[43m(\u001B[49m\u001B[43m[\u001B[49m\n\u001B[1;32m     33\u001B[0m \u001B[43m    \u001B[49m\u001B[43mres_grpah\u001B[49m\u001B[43m,\u001B[49m\n\u001B[1;32m     34\u001B[0m \u001B[43m    \u001B[49m\u001B[43mres_way\u001B[49m\n\u001B[1;32m     35\u001B[0m \u001B[43m]\u001B[49m\u001B[43m)\u001B[49m \u001B[38;5;66;03m#\u001B[39;00m\n\u001B[1;32m     36\u001B[0m cont\n",
      "File \u001B[0;32m~/opt/anaconda3/envs/tf/lib/python3.10/site-packages/keras/layers/merging/concatenate.py:231\u001B[0m, in \u001B[0;36mconcatenate\u001B[0;34m(inputs, axis, **kwargs)\u001B[0m\n\u001B[1;32m    199\u001B[0m \u001B[38;5;129m@keras_export\u001B[39m(\u001B[38;5;124m\"\u001B[39m\u001B[38;5;124mkeras.layers.concatenate\u001B[39m\u001B[38;5;124m\"\u001B[39m)\n\u001B[1;32m    200\u001B[0m \u001B[38;5;28;01mdef\u001B[39;00m \u001B[38;5;21mconcatenate\u001B[39m(inputs, axis\u001B[38;5;241m=\u001B[39m\u001B[38;5;241m-\u001B[39m\u001B[38;5;241m1\u001B[39m, \u001B[38;5;241m*\u001B[39m\u001B[38;5;241m*\u001B[39mkwargs):\n\u001B[1;32m    201\u001B[0m \u001B[38;5;250m    \u001B[39m\u001B[38;5;124;03m\"\"\"Functional interface to the `Concatenate` layer.\u001B[39;00m\n\u001B[1;32m    202\u001B[0m \n\u001B[1;32m    203\u001B[0m \u001B[38;5;124;03m    >>> x = np.arange(20).reshape(2, 2, 5)\u001B[39;00m\n\u001B[0;32m   (...)\u001B[0m\n\u001B[1;32m    229\u001B[0m \u001B[38;5;124;03m        A tensor, the concatenation of the inputs alongside axis `axis`.\u001B[39;00m\n\u001B[1;32m    230\u001B[0m \u001B[38;5;124;03m    \"\"\"\u001B[39;00m\n\u001B[0;32m--> 231\u001B[0m     \u001B[38;5;28;01mreturn\u001B[39;00m \u001B[43mConcatenate\u001B[49m\u001B[43m(\u001B[49m\u001B[43maxis\u001B[49m\u001B[38;5;241;43m=\u001B[39;49m\u001B[43maxis\u001B[49m\u001B[43m,\u001B[49m\u001B[43m \u001B[49m\u001B[38;5;241;43m*\u001B[39;49m\u001B[38;5;241;43m*\u001B[39;49m\u001B[43mkwargs\u001B[49m\u001B[43m)\u001B[49m\u001B[43m(\u001B[49m\u001B[43minputs\u001B[49m\u001B[43m)\u001B[49m\n",
      "File \u001B[0;32m~/opt/anaconda3/envs/tf/lib/python3.10/site-packages/keras/utils/traceback_utils.py:70\u001B[0m, in \u001B[0;36mfilter_traceback.<locals>.error_handler\u001B[0;34m(*args, **kwargs)\u001B[0m\n\u001B[1;32m     67\u001B[0m     filtered_tb \u001B[38;5;241m=\u001B[39m _process_traceback_frames(e\u001B[38;5;241m.\u001B[39m__traceback__)\n\u001B[1;32m     68\u001B[0m     \u001B[38;5;66;03m# To get the full stack trace, call:\u001B[39;00m\n\u001B[1;32m     69\u001B[0m     \u001B[38;5;66;03m# `tf.debugging.disable_traceback_filtering()`\u001B[39;00m\n\u001B[0;32m---> 70\u001B[0m     \u001B[38;5;28;01mraise\u001B[39;00m e\u001B[38;5;241m.\u001B[39mwith_traceback(filtered_tb) \u001B[38;5;28;01mfrom\u001B[39;00m \u001B[38;5;28mNone\u001B[39m\n\u001B[1;32m     71\u001B[0m \u001B[38;5;28;01mfinally\u001B[39;00m:\n\u001B[1;32m     72\u001B[0m     \u001B[38;5;28;01mdel\u001B[39;00m filtered_tb\n",
      "File \u001B[0;32m~/opt/anaconda3/envs/tf/lib/python3.10/site-packages/keras/layers/merging/concatenate.py:131\u001B[0m, in \u001B[0;36mConcatenate.build\u001B[0;34m(self, input_shape)\u001B[0m\n\u001B[1;32m    125\u001B[0m unique_dims \u001B[38;5;241m=\u001B[39m \u001B[38;5;28mset\u001B[39m(\n\u001B[1;32m    126\u001B[0m     shape[axis]\n\u001B[1;32m    127\u001B[0m     \u001B[38;5;28;01mfor\u001B[39;00m shape \u001B[38;5;129;01min\u001B[39;00m shape_set\n\u001B[1;32m    128\u001B[0m     \u001B[38;5;28;01mif\u001B[39;00m shape[axis] \u001B[38;5;129;01mis\u001B[39;00m \u001B[38;5;129;01mnot\u001B[39;00m \u001B[38;5;28;01mNone\u001B[39;00m\n\u001B[1;32m    129\u001B[0m )\n\u001B[1;32m    130\u001B[0m \u001B[38;5;28;01mif\u001B[39;00m \u001B[38;5;28mlen\u001B[39m(unique_dims) \u001B[38;5;241m>\u001B[39m \u001B[38;5;241m1\u001B[39m:\n\u001B[0;32m--> 131\u001B[0m     \u001B[38;5;28;01mraise\u001B[39;00m \u001B[38;5;167;01mValueError\u001B[39;00m(err_msg)\n",
      "\u001B[0;31mValueError\u001B[0m: A `Concatenate` layer requires inputs with matching shapes except for the concatenation axis. Received: input_shape=[(None, 4, 4, 128), (None, 16, 16, 128)]"
     ]
    }
   ],
   "source": [
    "graphCNN = Sequential([\n",
    "    Input((256,256,1)),\n",
    "    Conv2D(8, (3, 3), activation=\"relu\", padding=\"same\"),\n",
    "    Conv2D(16, (3, 3), activation=\"relu\", padding=\"same\"),\n",
    "    Conv2D(16, (2, 2), activation=\"relu\", strides=(3, 3), padding=\"same\"),  # 128 128 32\n",
    "    Conv2D(32, (3, 3), activation=\"relu\", padding=\"same\"),\n",
    "    Conv2D(32, (2, 2), activation=\"relu\", strides=(3, 3), padding=\"same\"),  # 64 64 64\n",
    "    Conv2D(64, (3, 3), activation=\"relu\", padding=\"same\"),\n",
    "    Conv2D(64, (2, 2), activation=\"relu\", strides=(3, 3), padding=\"same\"),  # 32 32 128\n",
    "    Conv2D(128, (3, 3), activation=\"relu\", padding=\"same\"),\n",
    "    Conv2D(256, (2, 2), activation=\"relu\", strides=(3, 3), padding=\"same\"),  # 16 16 256\n",
    "    Conv2D(128, (3, 3), activation=\"relu\", padding=\"same\"), # 16 16 128\n",
    "])\n",
    "\n",
    "embedding_way = Sequential([\n",
    "    Input((16,16,1)),\n",
    "    Flatten(),\n",
    "    Dense(256,\"relu\"),\n",
    "    RepeatVector(128), # 16,16\n",
    "    Reshape((16,16,128)),\n",
    "])\n",
    "\n",
    "\n",
    "inp1 = Input((256,256,1))\n",
    "inp2 = Input((16,16,1))\n",
    "\n",
    "res_grpah = graphCNN(inp1)\n",
    "res_way = embedding_way(inp2)\n",
    "\n",
    "print(res_grpah,res_way)\n",
    "\n",
    "cont = concatenate([\n",
    "    res_grpah,\n",
    "    res_way\n",
    "]) #\n",
    "cont\n",
    "\n",
    "\n",
    "\n",
    "\n"
   ],
   "metadata": {
    "collapsed": false
   }
  },
  {
   "cell_type": "code",
   "execution_count": null,
   "outputs": [],
   "source": [],
   "metadata": {
    "collapsed": false
   }
  }
 ],
 "metadata": {
  "kernelspec": {
   "display_name": "Python 3",
   "language": "python",
   "name": "python3"
  },
  "language_info": {
   "codemirror_mode": {
    "name": "ipython",
    "version": 2
   },
   "file_extension": ".py",
   "mimetype": "text/x-python",
   "name": "python",
   "nbconvert_exporter": "python",
   "pygments_lexer": "ipython2",
   "version": "2.7.6"
  }
 },
 "nbformat": 4,
 "nbformat_minor": 0
}
