{
 "cells": [
  {
   "cell_type": "code",
   "execution_count": 20,
   "metadata": {
    "collapsed": true
   },
   "outputs": [],
   "source": [
    "from tensorflow.keras.layers import *\n",
    "import numpy as np\n",
    "import matplotlib.pyplot as plt\n",
    "import h5py\n",
    "from tensorflow.keras import Sequential, Model\n",
    "from data import Data\n",
    "from graphs import Graph\n",
    "import numpy as np"
   ]
  },
  {
   "cell_type": "code",
   "execution_count": 21,
   "outputs": [
    {
     "data": {
      "text/plain": "4"
     },
     "execution_count": 21,
     "metadata": {},
     "output_type": "execute_result"
    }
   ],
   "source": [
    "data = Data(\"data\")\n",
    "data.config_iter(100, 3)\n",
    "len(data)\n",
    "\n",
    "# val_x1, val_x2, val_y = data.drop_data_in_file(3)\n",
    "# n = 300\n",
    "# val_x1, val_x2, val_y = np.array(val_x1, dtype=float)[:n], np.array(val_x2, dtype=float)[:n], np.array(val_y,\n",
    "#                                                                                                        dtype=float)[:n]\n",
    "# val_x = Graph.merge_graph_points(val_x1, val_x2)\n",
    "\n",
    "\n"
   ],
   "metadata": {
    "collapsed": false
   }
  },
  {
   "cell_type": "code",
   "execution_count": 22,
   "outputs": [],
   "source": [
    "# val_x.shape"
   ],
   "metadata": {
    "collapsed": false
   }
  },
  {
   "cell_type": "code",
   "execution_count": 23,
   "outputs": [
    {
     "name": "stdout",
     "output_type": "stream",
     "text": [
      "Model: \"sequential_4\"\n",
      "_________________________________________________________________\n",
      " Layer (type)                Output Shape              Param #   \n",
      "=================================================================\n",
      " flatten_4 (Flatten)         (None, 65536)             0         \n",
      "                                                                 \n",
      " dense_10 (Dense)            (None, 1024)              67109888  \n",
      "                                                                 \n",
      " dense_11 (Dense)            (None, 256)               262400    \n",
      "                                                                 \n",
      " dense_12 (Dense)            (None, 32)                8224      \n",
      "                                                                 \n",
      " dense_13 (Dense)            (None, 1)                 33        \n",
      "                                                                 \n",
      "=================================================================\n",
      "Total params: 67,380,545\n",
      "Trainable params: 67,380,545\n",
      "Non-trainable params: 0\n",
      "_________________________________________________________________\n"
     ]
    }
   ],
   "source": [
    "model = Sequential([\n",
    "    Input((256, 256)),\n",
    "    # GRU(256, \"relu\", dropout=0.25, return_sequences=True),\n",
    "    # GRU(256, \"relu\", dropout=0.25, return_sequences=True),\n",
    "    # GRU(256, \"relu\", dropout=0.1, return_sequences=True),\n",
    "    # GRU(256, \"relu\", dropout=0.1, return_sequences=True),\n",
    "    # Reshape((256, 256,1)),\n",
    "    # Conv2D(8, (3, 3), activation=\"relu\", padding=\"same\"),\n",
    "    # Conv2D(16, (3, 3), activation=\"relu\", padding=\"same\"),\n",
    "    # Conv2D(16, (3, 3), activation=\"relu\", strides=(2, 2), padding=\"same\"),  # 128 128 16\n",
    "    # Conv2D(32, (3, 3), activation=\"relu\", padding=\"same\"),\n",
    "    # Conv2D(32, (3, 3), activation=\"relu\", strides=(2, 2), padding=\"same\"),\n",
    "    Flatten(),\n",
    "    # Dropout(0.2),\n",
    "    Dense(1024, \"softmax\"),\n",
    "    Dense(256, \"softmax\"),\n",
    "    Dense(32, \"softmax\"),\n",
    "    Dense(1, \"softmax\"),\n",
    "\n",
    "])\n",
    "model.summary()"
   ],
   "metadata": {
    "collapsed": false
   }
  },
  {
   "cell_type": "code",
   "execution_count": 24,
   "outputs": [],
   "source": [
    "model.compile(optimizer=\"adam\",  # adam\n",
    "              loss='mse',  # mse # categorical_crossentropy binary_crossentropy\n",
    "              metrics=['accuracy'])"
   ],
   "metadata": {
    "collapsed": false
   }
  },
  {
   "cell_type": "code",
   "execution_count": null,
   "outputs": [
    {
     "name": "stdout",
     "output_type": "stream",
     "text": [
      "25/25 [==============================] - 9s 325ms/step - loss: 0.5126 - accuracy: 0.4874 - val_loss: 0.4744 - val_accuracy: 0.5256\n",
      "31/31 [==============================] - 11s 347ms/step - loss: 0.5054 - accuracy: 0.4946 - val_loss: 0.5149 - val_accuracy: 0.4851\n",
      "26/26 [==============================] - 9s 323ms/step - loss: 0.4901 - accuracy: 0.5099 - val_loss: 0.4957 - val_accuracy: 0.5043\n",
      "35/35 [==============================] - 12s 334ms/step - loss: 0.5014 - accuracy: 0.4986 - val_loss: 0.5085 - val_accuracy: 0.4915\n",
      "30/30 [==============================] - 12s 380ms/step - loss: 0.5008 - accuracy: 0.4992 - val_loss: 0.4982 - val_accuracy: 0.5018\n",
      "30/30 [==============================] - 11s 362ms/step - loss: 0.5039 - accuracy: 0.4961 - val_loss: 0.4848 - val_accuracy: 0.5152\n",
      "24/24 [==============================] - 9s 359ms/step - loss: 0.4938 - accuracy: 0.5062 - val_loss: 0.4779 - val_accuracy: 0.5221\n",
      "30/30 [==============================] - 11s 359ms/step - loss: 0.4968 - accuracy: 0.5032 - val_loss: 0.4969 - val_accuracy: 0.5031\n",
      "35/35 [==============================] - 12s 347ms/step - loss: 0.4941 - accuracy: 0.5059 - val_loss: 0.4874 - val_accuracy: 0.5126\n",
      "27/27 [==============================] - 11s 413ms/step - loss: 0.5099 - accuracy: 0.4901 - val_loss: 0.5174 - val_accuracy: 0.4826\n",
      "28/28 [==============================] - 10s 346ms/step - loss: 0.5101 - accuracy: 0.4899 - val_loss: 0.5105 - val_accuracy: 0.4895\n",
      "30/30 [==============================] - 11s 349ms/step - loss: 0.5031 - accuracy: 0.4969 - val_loss: 0.4848 - val_accuracy: 0.5152\n",
      "33/33 [==============================] - 12s 345ms/step - loss: 0.4879 - accuracy: 0.5121 - val_loss: 0.5068 - val_accuracy: 0.4932\n",
      "29/29 [==============================] - 11s 372ms/step - loss: 0.5025 - accuracy: 0.4975 - val_loss: 0.5123 - val_accuracy: 0.4877\n",
      "29/29 [==============================] - 11s 365ms/step - loss: 0.4872 - accuracy: 0.5128 - val_loss: 0.5051 - val_accuracy: 0.4949\n",
      "32/32 [==============================] - 13s 392ms/step - loss: 0.5035 - accuracy: 0.4965 - val_loss: 0.4971 - val_accuracy: 0.5029\n",
      "31/31 [==============================] - 10s 329ms/step - loss: 0.5051 - accuracy: 0.4949 - val_loss: 0.5066 - val_accuracy: 0.4934\n",
      "33/33 [==============================] - 11s 320ms/step - loss: 0.4915 - accuracy: 0.5085 - val_loss: 0.4960 - val_accuracy: 0.5040\n",
      "40/40 [==============================] - 18s 444ms/step - loss: 0.4899 - accuracy: 0.5101 - val_loss: 0.4930 - val_accuracy: 0.5070\n",
      "31/31 [==============================] - 11s 354ms/step - loss: 0.4979 - accuracy: 0.5021 - val_loss: 0.5145 - val_accuracy: 0.4855\n",
      "39/39 [==============================] - 13s 334ms/step - loss: 0.4982 - accuracy: 0.5018 - val_loss: 0.4976 - val_accuracy: 0.5024\n",
      "26/26 [==============================] - 9s 326ms/step - loss: 0.4921 - accuracy: 0.5079 - val_loss: 0.4929 - val_accuracy: 0.5071\n",
      "31/31 [==============================] - 11s 336ms/step - loss: 0.5063 - accuracy: 0.4937 - val_loss: 0.4935 - val_accuracy: 0.5065\n",
      "33/33 [==============================] - 13s 402ms/step - loss: 0.4966 - accuracy: 0.5034 - val_loss: 0.5328 - val_accuracy: 0.4672\n",
      "33/33 [==============================] - 12s 354ms/step - loss: 0.5113 - accuracy: 0.4887 - val_loss: 0.4843 - val_accuracy: 0.5157\n",
      "32/32 [==============================] - 12s 374ms/step - loss: 0.5025 - accuracy: 0.4975 - val_loss: 0.5093 - val_accuracy: 0.4907\n",
      "24/24 [==============================] - 9s 353ms/step - loss: 0.4879 - accuracy: 0.5121 - val_loss: 0.5023 - val_accuracy: 0.4977\n",
      "29/29 [==============================] - 11s 361ms/step - loss: 0.5052 - accuracy: 0.4948 - val_loss: 0.5057 - val_accuracy: 0.4943\n",
      "30/30 [==============================] - 12s 381ms/step - loss: 0.4882 - accuracy: 0.5118 - val_loss: 0.5031 - val_accuracy: 0.4969\n",
      "28/28 [==============================] - 10s 354ms/step - loss: 0.4862 - accuracy: 0.5138 - val_loss: 0.5033 - val_accuracy: 0.4967\n",
      "21/21 [==============================] - 8s 365ms/step - loss: 0.4981 - accuracy: 0.5019 - val_loss: 0.5136 - val_accuracy: 0.4864\n",
      "32/32 [==============================] - 11s 338ms/step - loss: 0.4860 - accuracy: 0.5140 - val_loss: 0.4914 - val_accuracy: 0.5086\n",
      "28/28 [==============================] - 10s 332ms/step - loss: 0.4957 - accuracy: 0.5043 - val_loss: 0.4894 - val_accuracy: 0.5106\n",
      "30/30 [==============================] - 12s 379ms/step - loss: 0.4863 - accuracy: 0.5137 - val_loss: 0.4743 - val_accuracy: 0.5257\n",
      "29/29 [==============================] - 10s 328ms/step - loss: 0.4869 - accuracy: 0.5131 - val_loss: 0.4879 - val_accuracy: 0.5121\n",
      "39/39 [==============================] - 13s 337ms/step - loss: 0.5030 - accuracy: 0.4970 - val_loss: 0.5000 - val_accuracy: 0.5000\n",
      "39/39 [==============================] - 13s 339ms/step - loss: 0.5058 - accuracy: 0.4942 - val_loss: 0.4888 - val_accuracy: 0.5112\n",
      "33/33 [==============================] - 11s 343ms/step - loss: 0.4907 - accuracy: 0.5093 - val_loss: 0.5039 - val_accuracy: 0.4961\n",
      "29/29 [==============================] - 10s 335ms/step - loss: 0.4886 - accuracy: 0.5114 - val_loss: 0.4955 - val_accuracy: 0.5045\n",
      "29/29 [==============================] - 10s 334ms/step - loss: 0.4997 - accuracy: 0.5003 - val_loss: 0.4828 - val_accuracy: 0.5172\n",
      "27/27 [==============================] - 9s 340ms/step - loss: 0.5059 - accuracy: 0.4941 - val_loss: 0.5194 - val_accuracy: 0.4806\n",
      "36/36 [==============================] - 12s 334ms/step - loss: 0.5157 - accuracy: 0.4843 - val_loss: 0.5132 - val_accuracy: 0.4868\n",
      "41/41 [==============================] - 14s 340ms/step - loss: 0.4994 - accuracy: 0.5006 - val_loss: 0.5100 - val_accuracy: 0.4900\n",
      "26/26 [==============================] - 9s 336ms/step - loss: 0.4988 - accuracy: 0.5012 - val_loss: 0.4837 - val_accuracy: 0.5163\n",
      "28/28 [==============================] - 9s 330ms/step - loss: 0.5014 - accuracy: 0.4986 - val_loss: 0.4832 - val_accuracy: 0.5168\n",
      "27/27 [==============================] - 9s 331ms/step - loss: 0.5041 - accuracy: 0.4959 - val_loss: 0.4764 - val_accuracy: 0.5236\n",
      "30/30 [==============================] - 10s 320ms/step - loss: 0.4941 - accuracy: 0.5059 - val_loss: 0.4913 - val_accuracy: 0.5087\n",
      "34/34 [==============================] - 11s 324ms/step - loss: 0.4928 - accuracy: 0.5072 - val_loss: 0.4935 - val_accuracy: 0.5065\n",
      "30/30 [==============================] - 10s 327ms/step - loss: 0.4956 - accuracy: 0.5044 - val_loss: 0.4885 - val_accuracy: 0.5115\n",
      "28/28 [==============================] - 9s 321ms/step - loss: 0.4975 - accuracy: 0.5025 - val_loss: 0.4817 - val_accuracy: 0.5183\n",
      "25/25 [==============================] - 8s 327ms/step - loss: 0.5194 - accuracy: 0.4806 - val_loss: 0.4755 - val_accuracy: 0.5245\n",
      "26/26 [==============================] - 9s 323ms/step - loss: 0.5101 - accuracy: 0.4899 - val_loss: 0.4893 - val_accuracy: 0.5107\n",
      "28/28 [==============================] - 10s 331ms/step - loss: 0.4893 - accuracy: 0.5107 - val_loss: 0.4869 - val_accuracy: 0.5131\n",
      "31/31 [==============================] - 10s 330ms/step - loss: 0.5060 - accuracy: 0.4940 - val_loss: 0.5236 - val_accuracy: 0.4764\n",
      "29/29 [==============================] - 10s 338ms/step - loss: 0.4954 - accuracy: 0.5046 - val_loss: 0.4823 - val_accuracy: 0.5177\n",
      "31/31 [==============================] - 10s 318ms/step - loss: 0.5083 - accuracy: 0.4917 - val_loss: 0.4818 - val_accuracy: 0.5182\n",
      "29/29 [==============================] - 11s 358ms/step - loss: 0.5033 - accuracy: 0.4967 - val_loss: 0.4917 - val_accuracy: 0.5083\n",
      "30/30 [==============================] - 11s 364ms/step - loss: 0.5024 - accuracy: 0.4976 - val_loss: 0.4988 - val_accuracy: 0.5012\n",
      "25/25 [==============================] - 8s 317ms/step - loss: 0.5137 - accuracy: 0.4863 - val_loss: 0.4970 - val_accuracy: 0.5030\n",
      "30/30 [==============================] - 11s 344ms/step - loss: 0.5083 - accuracy: 0.4917 - val_loss: 0.5069 - val_accuracy: 0.4931\n",
      "30/30 [==============================] - 10s 337ms/step - loss: 0.4939 - accuracy: 0.5061 - val_loss: 0.5149 - val_accuracy: 0.4851\n",
      "31/31 [==============================] - 10s 328ms/step - loss: 0.5135 - accuracy: 0.4865 - val_loss: 0.4858 - val_accuracy: 0.5142\n",
      "32/32 [==============================] - 11s 339ms/step - loss: 0.4973 - accuracy: 0.5027 - val_loss: 0.5029 - val_accuracy: 0.4971\n",
      "26/26 [==============================] - 9s 327ms/step - loss: 0.4981 - accuracy: 0.5019 - val_loss: 0.4827 - val_accuracy: 0.5173\n",
      "38/38 [==============================] - 13s 335ms/step - loss: 0.5112 - accuracy: 0.4888 - val_loss: 0.5034 - val_accuracy: 0.4966\n",
      "27/27 [==============================] - 9s 322ms/step - loss: 0.4810 - accuracy: 0.5190 - val_loss: 0.4896 - val_accuracy: 0.5104\n",
      "29/29 [==============================] - 10s 328ms/step - loss: 0.4978 - accuracy: 0.5022 - val_loss: 0.5215 - val_accuracy: 0.4785\n",
      "38/38 [==============================] - 12s 321ms/step - loss: 0.5033 - accuracy: 0.4967 - val_loss: 0.5010 - val_accuracy: 0.4990\n",
      "43/43 [==============================] - 14s 330ms/step - loss: 0.5136 - accuracy: 0.4864 - val_loss: 0.5021 - val_accuracy: 0.4979\n",
      "35/35 [==============================] - 12s 338ms/step - loss: 0.5058 - accuracy: 0.4942 - val_loss: 0.5157 - val_accuracy: 0.4843\n",
      "29/29 [==============================] - 10s 332ms/step - loss: 0.5030 - accuracy: 0.4970 - val_loss: 0.5025 - val_accuracy: 0.4975\n",
      "33/33 [==============================] - 11s 337ms/step - loss: 0.5105 - accuracy: 0.4895 - val_loss: 0.4938 - val_accuracy: 0.5062\n",
      "25/25 [==============================] - 8s 323ms/step - loss: 0.5003 - accuracy: 0.4997 - val_loss: 0.5139 - val_accuracy: 0.4861\n",
      "22/22 [==============================] - 7s 317ms/step - loss: 0.5111 - accuracy: 0.4889 - val_loss: 0.4925 - val_accuracy: 0.5075\n",
      "28/28 [==============================] - 9s 321ms/step - loss: 0.5056 - accuracy: 0.4944 - val_loss: 0.4869 - val_accuracy: 0.5131\n",
      "31/31 [==============================] - 10s 327ms/step - loss: 0.4997 - accuracy: 0.5003 - val_loss: 0.4970 - val_accuracy: 0.5030\n",
      "33/33 [==============================] - 11s 331ms/step - loss: 0.5017 - accuracy: 0.4983 - val_loss: 0.4812 - val_accuracy: 0.5188\n",
      "30/30 [==============================] - 10s 328ms/step - loss: 0.4872 - accuracy: 0.5128 - val_loss: 0.5012 - val_accuracy: 0.4988\n",
      "28/28 [==============================] - 9s 317ms/step - loss: 0.4962 - accuracy: 0.5038 - val_loss: 0.4704 - val_accuracy: 0.5296\n",
      "29/29 [==============================] - 10s 321ms/step - loss: 0.5138 - accuracy: 0.4862 - val_loss: 0.4792 - val_accuracy: 0.5208\n",
      "28/28 [==============================] - 9s 321ms/step - loss: 0.4878 - accuracy: 0.5122 - val_loss: 0.5059 - val_accuracy: 0.4941\n",
      "20/20 [==============================] - 7s 323ms/step - loss: 0.5000 - accuracy: 0.5000 - val_loss: 0.5064 - val_accuracy: 0.4936\n",
      "40/40 [==============================] - 13s 323ms/step - loss: 0.4969 - accuracy: 0.5031 - val_loss: 0.4964 - val_accuracy: 0.5036\n",
      "30/30 [==============================] - 10s 321ms/step - loss: 0.5119 - accuracy: 0.4881 - val_loss: 0.5043 - val_accuracy: 0.4957\n",
      "26/26 [==============================] - 9s 332ms/step - loss: 0.5091 - accuracy: 0.4909 - val_loss: 0.4831 - val_accuracy: 0.5169\n",
      "30/30 [==============================] - 10s 332ms/step - loss: 0.4987 - accuracy: 0.5013 - val_loss: 0.5104 - val_accuracy: 0.4896\n",
      "32/32 [==============================] - 10s 319ms/step - loss: 0.5040 - accuracy: 0.4960 - val_loss: 0.4965 - val_accuracy: 0.5035\n",
      "33/33 [==============================] - 11s 328ms/step - loss: 0.5038 - accuracy: 0.4962 - val_loss: 0.5156 - val_accuracy: 0.4844\n",
      "29/29 [==============================] - 10s 322ms/step - loss: 0.4978 - accuracy: 0.5022 - val_loss: 0.5075 - val_accuracy: 0.4925\n",
      "25/25 [==============================] - 8s 319ms/step - loss: 0.4962 - accuracy: 0.5038 - val_loss: 0.4955 - val_accuracy: 0.5045\n",
      "28/28 [==============================] - 9s 318ms/step - loss: 0.4954 - accuracy: 0.5046 - val_loss: 0.4893 - val_accuracy: 0.5107\n",
      "28/28 [==============================] - 9s 324ms/step - loss: 0.5025 - accuracy: 0.4975 - val_loss: 0.5007 - val_accuracy: 0.4993\n",
      "23/23 [==============================] - 8s 326ms/step - loss: 0.5062 - accuracy: 0.4938 - val_loss: 0.4863 - val_accuracy: 0.5137\n",
      "32/32 [==============================] - 11s 328ms/step - loss: 0.5123 - accuracy: 0.4877 - val_loss: 0.4959 - val_accuracy: 0.5041\n",
      "31/31 [==============================] - 11s 339ms/step - loss: 0.4876 - accuracy: 0.5124 - val_loss: 0.5054 - val_accuracy: 0.4946\n",
      "28/28 [==============================] - 9s 322ms/step - loss: 0.5050 - accuracy: 0.4950 - val_loss: 0.4980 - val_accuracy: 0.5020\n",
      "30/30 [==============================] - 10s 328ms/step - loss: 0.4920 - accuracy: 0.5080 - val_loss: 0.5025 - val_accuracy: 0.4975\n",
      "27/27 [==============================] - 9s 330ms/step - loss: 0.5029 - accuracy: 0.4971 - val_loss: 0.4836 - val_accuracy: 0.5164\n",
      "22/22 [==============================] - 7s 330ms/step - loss: 0.5040 - accuracy: 0.4960 - val_loss: 0.5193 - val_accuracy: 0.4807\n",
      "26/26 [==============================] - 9s 323ms/step - loss: 0.5168 - accuracy: 0.4832 - val_loss: 0.4877 - val_accuracy: 0.5123\n",
      "23/23 [==============================] - 8s 322ms/step - loss: 0.5213 - accuracy: 0.4787 - val_loss: 0.4968 - val_accuracy: 0.5032\n",
      "13/13 [==============================] - 4s 323ms/step - loss: 0.5290 - accuracy: 0.4710 - val_loss: 0.5084 - val_accuracy: 0.4916\n",
      "25/25 [==============================] - 9s 336ms/step - loss: 0.5133 - accuracy: 0.4867 - val_loss: 0.4816 - val_accuracy: 0.5184\n",
      "30/30 [==============================] - 10s 331ms/step - loss: 0.4818 - accuracy: 0.5182 - val_loss: 0.4981 - val_accuracy: 0.5019\n",
      "28/28 [==============================] - 9s 330ms/step - loss: 0.4955 - accuracy: 0.5045 - val_loss: 0.4967 - val_accuracy: 0.5033\n",
      "32/32 [==============================] - 11s 335ms/step - loss: 0.5128 - accuracy: 0.4872 - val_loss: 0.4994 - val_accuracy: 0.5006\n",
      "26/26 [==============================] - 9s 321ms/step - loss: 0.4855 - accuracy: 0.5145 - val_loss: 0.5140 - val_accuracy: 0.4860\n",
      "27/27 [==============================] - 9s 325ms/step - loss: 0.4938 - accuracy: 0.5062 - val_loss: 0.4896 - val_accuracy: 0.5104\n",
      "31/31 [==============================] - 11s 334ms/step - loss: 0.4902 - accuracy: 0.5098 - val_loss: 0.5235 - val_accuracy: 0.4765\n",
      "31/31 [==============================] - 11s 357ms/step - loss: 0.4862 - accuracy: 0.5138 - val_loss: 0.5006 - val_accuracy: 0.4994\n",
      "33/33 [==============================] - 12s 361ms/step - loss: 0.5105 - accuracy: 0.4895 - val_loss: 0.4960 - val_accuracy: 0.5040\n",
      "28/28 [==============================] - 10s 333ms/step - loss: 0.5107 - accuracy: 0.4893 - val_loss: 0.5059 - val_accuracy: 0.4941\n",
      "29/29 [==============================] - 10s 331ms/step - loss: 0.5085 - accuracy: 0.4915 - val_loss: 0.5096 - val_accuracy: 0.4904\n",
      "29/29 [==============================] - 10s 346ms/step - loss: 0.4912 - accuracy: 0.5088 - val_loss: 0.4839 - val_accuracy: 0.5161\n",
      "23/23 [==============================] - 8s 328ms/step - loss: 0.4983 - accuracy: 0.5017 - val_loss: 0.4780 - val_accuracy: 0.5220\n",
      "30/30 [==============================] - 10s 338ms/step - loss: 0.5000 - accuracy: 0.5000 - val_loss: 0.5006 - val_accuracy: 0.4994\n",
      "29/29 [==============================] - 10s 334ms/step - loss: 0.4981 - accuracy: 0.5019 - val_loss: 0.5145 - val_accuracy: 0.4855\n",
      "39/39 [==============================] - 13s 335ms/step - loss: 0.5020 - accuracy: 0.4980 - val_loss: 0.5042 - val_accuracy: 0.4958\n",
      "24/24 [==============================] - 8s 328ms/step - loss: 0.4892 - accuracy: 0.5108 - val_loss: 0.5046 - val_accuracy: 0.4954\n",
      "35/35 [==============================] - 12s 327ms/step - loss: 0.5086 - accuracy: 0.4914 - val_loss: 0.4979 - val_accuracy: 0.5021\n",
      "25/25 [==============================] - 9s 338ms/step - loss: 0.5057 - accuracy: 0.4943 - val_loss: 0.5007 - val_accuracy: 0.4993\n",
      "33/33 [==============================] - 11s 335ms/step - loss: 0.4972 - accuracy: 0.5028 - val_loss: 0.5072 - val_accuracy: 0.4928\n",
      "25/25 [==============================] - 8s 327ms/step - loss: 0.5042 - accuracy: 0.4958 - val_loss: 0.5061 - val_accuracy: 0.4939\n",
      "27/27 [==============================] - 9s 330ms/step - loss: 0.4953 - accuracy: 0.5047 - val_loss: 0.4869 - val_accuracy: 0.5131\n",
      "30/30 [==============================] - 10s 342ms/step - loss: 0.5031 - accuracy: 0.4969 - val_loss: 0.4872 - val_accuracy: 0.5128\n",
      "28/28 [==============================] - 10s 336ms/step - loss: 0.5085 - accuracy: 0.4915 - val_loss: 0.5270 - val_accuracy: 0.4730\n",
      "31/31 [==============================] - 11s 332ms/step - loss: 0.5025 - accuracy: 0.4975 - val_loss: 0.5053 - val_accuracy: 0.4947\n",
      "27/27 [==============================] - 9s 343ms/step - loss: 0.4918 - accuracy: 0.5082 - val_loss: 0.4980 - val_accuracy: 0.5020\n",
      "28/28 [==============================] - 10s 338ms/step - loss: 0.4921 - accuracy: 0.5079 - val_loss: 0.5059 - val_accuracy: 0.4941\n",
      "28/28 [==============================] - 10s 338ms/step - loss: 0.5011 - accuracy: 0.4989 - val_loss: 0.4940 - val_accuracy: 0.5060\n",
      "25/25 [==============================] - 9s 332ms/step - loss: 0.5013 - accuracy: 0.4987 - val_loss: 0.5112 - val_accuracy: 0.4888\n",
      "26/26 [==============================] - 8s 314ms/step - loss: 0.5052 - accuracy: 0.4948 - val_loss: 0.4914 - val_accuracy: 0.5086\n",
      "24/24 [==============================] - 8s 325ms/step - loss: 0.4824 - accuracy: 0.5176 - val_loss: 0.4992 - val_accuracy: 0.5008\n",
      "26/26 [==============================] - 9s 349ms/step - loss: 0.4972 - accuracy: 0.5028 - val_loss: 0.4957 - val_accuracy: 0.5043\n",
      "32/32 [==============================] - 12s 352ms/step - loss: 0.4908 - accuracy: 0.5092 - val_loss: 0.4820 - val_accuracy: 0.5180\n",
      "30/30 [==============================] - 10s 337ms/step - loss: 0.5005 - accuracy: 0.4995 - val_loss: 0.5055 - val_accuracy: 0.4945\n",
      "28/28 [==============================] - 10s 337ms/step - loss: 0.4896 - accuracy: 0.5104 - val_loss: 0.5059 - val_accuracy: 0.4941\n",
      "31/31 [==============================] - 11s 338ms/step - loss: 0.4982 - accuracy: 0.5018 - val_loss: 0.5018 - val_accuracy: 0.4982\n",
      "24/24 [==============================] - 8s 332ms/step - loss: 0.5240 - accuracy: 0.4760 - val_loss: 0.4992 - val_accuracy: 0.5008\n",
      "29/29 [==============================] - 10s 324ms/step - loss: 0.4914 - accuracy: 0.5086 - val_loss: 0.5032 - val_accuracy: 0.4968\n",
      "26/26 [==============================] - 9s 341ms/step - loss: 0.5082 - accuracy: 0.4918 - val_loss: 0.4844 - val_accuracy: 0.5156\n",
      "28/28 [==============================] - 9s 333ms/step - loss: 0.4917 - accuracy: 0.5083 - val_loss: 0.5147 - val_accuracy: 0.4853\n",
      "28/28 [==============================] - 9s 323ms/step - loss: 0.5020 - accuracy: 0.4980 - val_loss: 0.5060 - val_accuracy: 0.4940\n",
      "46/46 [==============================] - 16s 337ms/step - loss: 0.5003 - accuracy: 0.4997 - val_loss: 0.4790 - val_accuracy: 0.5210\n",
      "26/26 [==============================] - 9s 323ms/step - loss: 0.4997 - accuracy: 0.5003 - val_loss: 0.4936 - val_accuracy: 0.5064\n",
      "23/23 [==============================] - 8s 330ms/step - loss: 0.5041 - accuracy: 0.4959 - val_loss: 0.4770 - val_accuracy: 0.5230\n",
      "27/27 [==============================] - 9s 338ms/step - loss: 0.4925 - accuracy: 0.5075 - val_loss: 0.5034 - val_accuracy: 0.4966\n",
      "30/30 [==============================] - 10s 342ms/step - loss: 0.4906 - accuracy: 0.5094 - val_loss: 0.5113 - val_accuracy: 0.4888\n",
      "36/36 [==============================] - 11s 310ms/step - loss: 0.5210 - accuracy: 0.4790 - val_loss: 0.4907 - val_accuracy: 0.5093\n",
      "30/30 [==============================] - 10s 318ms/step - loss: 0.4979 - accuracy: 0.5021 - val_loss: 0.4951 - val_accuracy: 0.5049\n",
      "30/30 [==============================] - 10s 333ms/step - loss: 0.4946 - accuracy: 0.5054 - val_loss: 0.4888 - val_accuracy: 0.5113\n",
      "29/29 [==============================] - 10s 322ms/step - loss: 0.4945 - accuracy: 0.5055 - val_loss: 0.5006 - val_accuracy: 0.4994\n",
      "20/20 [==============================] - 7s 331ms/step - loss: 0.4939 - accuracy: 0.5061 - val_loss: 0.5160 - val_accuracy: 0.4840\n",
      "30/30 [==============================] - 10s 333ms/step - loss: 0.5021 - accuracy: 0.4979 - val_loss: 0.4932 - val_accuracy: 0.5068\n",
      "26/26 [==============================] - 9s 336ms/step - loss: 0.4994 - accuracy: 0.5006 - val_loss: 0.4979 - val_accuracy: 0.5021\n",
      "33/33 [==============================] - 12s 342ms/step - loss: 0.4938 - accuracy: 0.5062 - val_loss: 0.5139 - val_accuracy: 0.4861\n",
      "30/30 [==============================] - 10s 342ms/step - loss: 0.4976 - accuracy: 0.5024 - val_loss: 0.5130 - val_accuracy: 0.4870\n",
      "28/28 [==============================] - 10s 335ms/step - loss: 0.5003 - accuracy: 0.4997 - val_loss: 0.5124 - val_accuracy: 0.4876\n",
      "27/27 [==============================] - 9s 334ms/step - loss: 0.4928 - accuracy: 0.5072 - val_loss: 0.4965 - val_accuracy: 0.5035\n",
      "25/25 [==============================] - 9s 333ms/step - loss: 0.5019 - accuracy: 0.4981 - val_loss: 0.5082 - val_accuracy: 0.4918\n",
      "28/28 [==============================] - 9s 319ms/step - loss: 0.4749 - accuracy: 0.5251 - val_loss: 0.4888 - val_accuracy: 0.5112\n",
      "34/34 [==============================] - 11s 331ms/step - loss: 0.5028 - accuracy: 0.4972 - val_loss: 0.5214 - val_accuracy: 0.4786\n",
      "30/30 [==============================] - 10s 328ms/step - loss: 0.5102 - accuracy: 0.4898 - val_loss: 0.4881 - val_accuracy: 0.5119\n",
      "29/29 [==============================] - 10s 338ms/step - loss: 0.5058 - accuracy: 0.4942 - val_loss: 0.4853 - val_accuracy: 0.5147\n",
      "25/25 [==============================] - 9s 335ms/step - loss: 0.4952 - accuracy: 0.5048 - val_loss: 0.5112 - val_accuracy: 0.4888\n",
      "34/34 [==============================] - 12s 338ms/step - loss: 0.5153 - accuracy: 0.4847 - val_loss: 0.5016 - val_accuracy: 0.4984\n",
      "31/31 [==============================] - 11s 341ms/step - loss: 0.5107 - accuracy: 0.4893 - val_loss: 0.5024 - val_accuracy: 0.4976\n",
      "31/31 [==============================] - 10s 326ms/step - loss: 0.4982 - accuracy: 0.5018 - val_loss: 0.4958 - val_accuracy: 0.5042\n",
      "27/27 [==============================] - 9s 327ms/step - loss: 0.4979 - accuracy: 0.5021 - val_loss: 0.4925 - val_accuracy: 0.5075\n",
      "30/30 [==============================] - 10s 331ms/step - loss: 0.4989 - accuracy: 0.5011 - val_loss: 0.5207 - val_accuracy: 0.4793\n",
      "30/30 [==============================] - 10s 328ms/step - loss: 0.5032 - accuracy: 0.4968 - val_loss: 0.4975 - val_accuracy: 0.5025\n",
      "31/31 [==============================] - 10s 330ms/step - loss: 0.4985 - accuracy: 0.5015 - val_loss: 0.5176 - val_accuracy: 0.4824\n",
      "27/27 [==============================] - 9s 330ms/step - loss: 0.4849 - accuracy: 0.5151 - val_loss: 0.4945 - val_accuracy: 0.5055\n",
      "30/30 [==============================] - 10s 343ms/step - loss: 0.4973 - accuracy: 0.5027 - val_loss: 0.5050 - val_accuracy: 0.4950\n",
      "29/29 [==============================] - 10s 355ms/step - loss: 0.5087 - accuracy: 0.4913 - val_loss: 0.4968 - val_accuracy: 0.5032\n",
      "29/29 [==============================] - 10s 327ms/step - loss: 0.5000 - accuracy: 0.5000 - val_loss: 0.5264 - val_accuracy: 0.4736\n",
      "30/30 [==============================] - 11s 344ms/step - loss: 0.5034 - accuracy: 0.4966 - val_loss: 0.4754 - val_accuracy: 0.5246\n",
      "33/33 [==============================] - 11s 327ms/step - loss: 0.5034 - accuracy: 0.4966 - val_loss: 0.4989 - val_accuracy: 0.5011\n",
      "26/26 [==============================] - 9s 335ms/step - loss: 0.5012 - accuracy: 0.4988 - val_loss: 0.5000 - val_accuracy: 0.5000\n",
      "29/29 [==============================] - 10s 328ms/step - loss: 0.4867 - accuracy: 0.5133 - val_loss: 0.4865 - val_accuracy: 0.5135\n",
      "27/27 [==============================] - 10s 347ms/step - loss: 0.4976 - accuracy: 0.5024 - val_loss: 0.4679 - val_accuracy: 0.5321\n",
      "34/34 [==============================] - 12s 341ms/step - loss: 0.4909 - accuracy: 0.5091 - val_loss: 0.4935 - val_accuracy: 0.5065\n",
      "31/31 [==============================] - 10s 325ms/step - loss: 0.4997 - accuracy: 0.5003 - val_loss: 0.4776 - val_accuracy: 0.5224\n",
      "30/30 [==============================] - 11s 362ms/step - loss: 0.5029 - accuracy: 0.4971 - val_loss: 0.5104 - val_accuracy: 0.4896\n"
     ]
    }
   ],
   "source": [
    "ep = 1\n",
    "his = []\n",
    "ll, aa = [], []\n",
    "for i in range(ep):\n",
    "    for x1, x2, y in data:\n",
    "        x1, x2, y = np.array(x1, dtype=float), np.array(x2, dtype=float), np.array(y, dtype=float)\n",
    "\n",
    "        temp = Graph.merge_graph_points(x1, x2)\n",
    "        x,y = Graph.merge_graph_way(temp,y)\n",
    "\n",
    "        h = model.fit(x, y, batch_size=64,\n",
    "                      validation_split=0.3\n",
    "                      ).history\n",
    "        his.append(h)\n"
   ],
   "metadata": {
    "collapsed": false,
    "pycharm": {
     "is_executing": true
    }
   }
  },
  {
   "cell_type": "code",
   "execution_count": null,
   "outputs": [],
   "source": [
    "x1,x2,y1 = next(data)\n",
    "x1, x2, y1 = np.array(x1, dtype=float), np.array(x2, dtype=float), np.array(y1, dtype=float)\n",
    "x1, x2,yt = x1[0], x2[0],y1[0].copy()\n",
    "x1.shape = (1,256,256)\n",
    "x2.shape = (1,16,16)\n",
    "yt.shape = (1,16,16)\n",
    "temp = Graph.merge_graph_points(x1, x2)\n",
    "x,y = Graph.merge_graph_way(temp,yt)\n",
    "x.shape,y.shape"
   ],
   "metadata": {
    "collapsed": false,
    "pycharm": {
     "is_executing": true
    }
   }
  },
  {
   "cell_type": "code",
   "execution_count": null,
   "outputs": [],
   "source": [
    "plt.imshow(y1[0])\n",
    "plt.show()\n",
    "res = model(x)\n",
    "res = np.array(res)\n",
    "res.shape = (16,16)\n",
    "plt.imshow(res)"
   ],
   "metadata": {
    "collapsed": false,
    "pycharm": {
     "is_executing": true
    }
   }
  },
  {
   "cell_type": "code",
   "execution_count": null,
   "outputs": [],
   "source": [
    "res"
   ],
   "metadata": {
    "collapsed": false,
    "pycharm": {
     "is_executing": true
    }
   }
  },
  {
   "cell_type": "code",
   "execution_count": null,
   "outputs": [],
   "source": [],
   "metadata": {
    "collapsed": false,
    "pycharm": {
     "is_executing": true
    }
   }
  }
 ],
 "metadata": {
  "kernelspec": {
   "display_name": "Python 3",
   "language": "python",
   "name": "python3"
  },
  "language_info": {
   "codemirror_mode": {
    "name": "ipython",
    "version": 2
   },
   "file_extension": ".py",
   "mimetype": "text/x-python",
   "name": "python",
   "nbconvert_exporter": "python",
   "pygments_lexer": "ipython2",
   "version": "2.7.6"
  }
 },
 "nbformat": 4,
 "nbformat_minor": 0
}
